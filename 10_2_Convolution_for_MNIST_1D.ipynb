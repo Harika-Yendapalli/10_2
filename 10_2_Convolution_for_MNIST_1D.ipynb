{
  "nbformat": 4,
  "nbformat_minor": 0,
  "metadata": {
    "colab": {
      "provenance": [],
      "include_colab_link": true
    },
    "kernelspec": {
      "name": "python3",
      "display_name": "Python 3"
    },
    "language_info": {
      "name": "python"
    }
  },
  "cells": [
    {
      "cell_type": "markdown",
      "metadata": {
        "id": "view-in-github",
        "colab_type": "text"
      },
      "source": [
        "<a href=\"https://colab.research.google.com/github/Harika-Yendapalli/10_2/blob/main/10_2_Convolution_for_MNIST_1D.ipynb\" target=\"_parent\"><img src=\"https://colab.research.google.com/assets/colab-badge.svg\" alt=\"Open In Colab\"/></a>"
      ]
    },
    {
      "cell_type": "markdown",
      "source": [
        "# **Notebook 10.2: Convolution for MNIST-1D**\n",
        "\n",
        "This notebook investigates a 1D convolutional network for MNIST-1D as in figure 10.7 and 10.8a.\n",
        "\n",
        "Work through the cells below, running each cell in turn. In various places you will see the words \"TO DO\". Follow the instructions at these places and make predictions about what is going to happen or write code to complete the functions.\n",
        "\n",
        "Contact me at udlbookmail@gmail.com if you find any mistakes or have any suggestions.\n",
        "\n"
      ],
      "metadata": {
        "id": "t9vk9Elugvmi"
      }
    },
    {
      "cell_type": "code",
      "source": [
        "# Run this if you're in a Colab to install MNIST 1D repository\n",
        "!pip install git+https://github.com/greydanus/mnist1d"
      ],
      "metadata": {
        "id": "D5yLObtZCi9J",
        "colab": {
          "base_uri": "https://localhost:8080/"
        },
        "outputId": "50018b01-644e-49f3-abe5-b093acc5fbbb"
      },
      "execution_count": 8,
      "outputs": [
        {
          "output_type": "stream",
          "name": "stdout",
          "text": [
            "Collecting git+https://github.com/greydanus/mnist1d\n",
            "  Cloning https://github.com/greydanus/mnist1d to /tmp/pip-req-build-s2qg9u48\n",
            "  Running command git clone --filter=blob:none --quiet https://github.com/greydanus/mnist1d /tmp/pip-req-build-s2qg9u48\n",
            "  Resolved https://github.com/greydanus/mnist1d to commit 7878d96082abd200c546a07a4101fa90b30fdf7e\n",
            "  Installing build dependencies ... \u001b[?25l\u001b[?25hdone\n",
            "  Getting requirements to build wheel ... \u001b[?25l\u001b[?25hdone\n",
            "  Preparing metadata (pyproject.toml) ... \u001b[?25l\u001b[?25hdone\n",
            "Requirement already satisfied: requests in /usr/local/lib/python3.10/dist-packages (from mnist1d==0.0.2.post16) (2.32.3)\n",
            "Requirement already satisfied: numpy in /usr/local/lib/python3.10/dist-packages (from mnist1d==0.0.2.post16) (1.26.4)\n",
            "Requirement already satisfied: matplotlib in /usr/local/lib/python3.10/dist-packages (from mnist1d==0.0.2.post16) (3.8.0)\n",
            "Requirement already satisfied: scipy in /usr/local/lib/python3.10/dist-packages (from mnist1d==0.0.2.post16) (1.13.1)\n",
            "Requirement already satisfied: contourpy>=1.0.1 in /usr/local/lib/python3.10/dist-packages (from matplotlib->mnist1d==0.0.2.post16) (1.3.0)\n",
            "Requirement already satisfied: cycler>=0.10 in /usr/local/lib/python3.10/dist-packages (from matplotlib->mnist1d==0.0.2.post16) (0.12.1)\n",
            "Requirement already satisfied: fonttools>=4.22.0 in /usr/local/lib/python3.10/dist-packages (from matplotlib->mnist1d==0.0.2.post16) (4.54.1)\n",
            "Requirement already satisfied: kiwisolver>=1.0.1 in /usr/local/lib/python3.10/dist-packages (from matplotlib->mnist1d==0.0.2.post16) (1.4.7)\n",
            "Requirement already satisfied: packaging>=20.0 in /usr/local/lib/python3.10/dist-packages (from matplotlib->mnist1d==0.0.2.post16) (24.1)\n",
            "Requirement already satisfied: pillow>=6.2.0 in /usr/local/lib/python3.10/dist-packages (from matplotlib->mnist1d==0.0.2.post16) (10.4.0)\n",
            "Requirement already satisfied: pyparsing>=2.3.1 in /usr/local/lib/python3.10/dist-packages (from matplotlib->mnist1d==0.0.2.post16) (3.2.0)\n",
            "Requirement already satisfied: python-dateutil>=2.7 in /usr/local/lib/python3.10/dist-packages (from matplotlib->mnist1d==0.0.2.post16) (2.8.2)\n",
            "Requirement already satisfied: charset-normalizer<4,>=2 in /usr/local/lib/python3.10/dist-packages (from requests->mnist1d==0.0.2.post16) (3.4.0)\n",
            "Requirement already satisfied: idna<4,>=2.5 in /usr/local/lib/python3.10/dist-packages (from requests->mnist1d==0.0.2.post16) (3.10)\n",
            "Requirement already satisfied: urllib3<3,>=1.21.1 in /usr/local/lib/python3.10/dist-packages (from requests->mnist1d==0.0.2.post16) (2.2.3)\n",
            "Requirement already satisfied: certifi>=2017.4.17 in /usr/local/lib/python3.10/dist-packages (from requests->mnist1d==0.0.2.post16) (2024.8.30)\n",
            "Requirement already satisfied: six>=1.5 in /usr/local/lib/python3.10/dist-packages (from python-dateutil>=2.7->matplotlib->mnist1d==0.0.2.post16) (1.16.0)\n"
          ]
        }
      ]
    },
    {
      "cell_type": "code",
      "source": [
        "import numpy as np\n",
        "import os\n",
        "import torch, torch.nn as nn\n",
        "from torch.utils.data import TensorDataset, DataLoader\n",
        "from torch.optim.lr_scheduler import StepLR\n",
        "import matplotlib.pyplot as plt\n",
        "import mnist1d\n",
        "import random"
      ],
      "metadata": {
        "id": "YrXWAH7sUWvU"
      },
      "execution_count": 9,
      "outputs": []
    },
    {
      "cell_type": "code",
      "source": [
        "args = mnist1d.data.get_dataset_args()\n",
        "data = mnist1d.data.get_dataset(args, path='./mnist1d_data.pkl', download=False, regenerate=False)\n",
        "\n",
        "# The training and test input and outputs are in\n",
        "# data['x'], data['y'], data['x_test'], and data['y_test']\n",
        "print(\"Examples in training set: {}\".format(len(data['y'])))\n",
        "print(\"Examples in test set: {}\".format(len(data['y_test'])))\n",
        "print(\"Length of each example: {}\".format(data['x'].shape[-1]))"
      ],
      "metadata": {
        "id": "twI72ZCrCt5z",
        "colab": {
          "base_uri": "https://localhost:8080/"
        },
        "outputId": "bc458f3d-0c01-4be2-842f-d563a54a7c61"
      },
      "execution_count": 12,
      "outputs": [
        {
          "output_type": "stream",
          "name": "stdout",
          "text": [
            "Successfully loaded data from ./mnist1d_data.pkl\n",
            "Examples in training set: 4000\n",
            "Examples in test set: 1000\n",
            "Length of each example: 40\n"
          ]
        }
      ]
    },
    {
      "cell_type": "code",
      "source": [
        "# Load in the data\n",
        "train_data_x = data['x'].transpose()\n",
        "train_data_y = data['y']\n",
        "val_data_x = data['x_test'].transpose()\n",
        "val_data_y = data['y_test']\n",
        "# Print out sizes\n",
        "print(\"Train data: %d examples (columns), each of which has %d dimensions (rows)\"%((train_data_x.shape[1],train_data_x.shape[0])))\n",
        "print(\"Validation data: %d examples (columns), each of which has %d dimensions (rows)\"%((val_data_x.shape[1],val_data_x.shape[0])))"
      ],
      "metadata": {
        "id": "8bKADvLHbiV5",
        "colab": {
          "base_uri": "https://localhost:8080/"
        },
        "outputId": "8f08d88d-2b8d-49cf-af79-be45cb766f6b"
      },
      "execution_count": 11,
      "outputs": [
        {
          "output_type": "stream",
          "name": "stdout",
          "text": [
            "Train data: 4000 examples (columns), each of which has 40 dimensions (rows)\n",
            "Validation data: 1000 examples (columns), each of which has 40 dimensions (rows)\n"
          ]
        }
      ]
    },
    {
      "cell_type": "markdown",
      "source": [
        "Define the network"
      ],
      "metadata": {
        "id": "_sFvRDGrl4qe"
      }
    },
    {
      "cell_type": "code",
      "source": [
        "# There are 40 input dimensions and 10 output dimensions for this data\n",
        "# The inputs correspond to the 40 offsets in the MNIST1D template.\n",
        "D_i = 40\n",
        "# The outputs correspond to the 10 digits\n",
        "D_o = 10\n",
        "\n",
        "\n",
        "# TODO Create a model with the following layers\n",
        "# 1. Convolutional layer, (input=length 40 and 1 channel, kernel size 3, stride 2, padding=\"valid\", 15 output channels )\n",
        "# 2. ReLU\n",
        "# 3. Convolutional layer, (input=length 19 and 15 channels, kernel size 3, stride 2, padding=\"valid\", 15 output channels )\n",
        "# 4. ReLU\n",
        "# 5. Convolutional layer, (input=length 9 and 15 channels, kernel size 3, stride 2, padding=\"valid\", 15 output channels)\n",
        "# 6. ReLU\n",
        "# 7. Flatten (converts 4x15) to length 60\n",
        "# 8. Linear layer (input size = 60, output size = 10)\n",
        "# References:\n",
        "# https://pytorch.org/docs/1.13/generated/torch.nn.Conv1d.html?highlight=conv1d#torch.nn.Conv1d\n",
        "# https://pytorch.org/docs/stable/generated/torch.nn.Flatten.html\n",
        "# https://pytorch.org/docs/1.13/generated/torch.nn.Linear.html?highlight=linear#torch.nn.Linear\n",
        "\n",
        "# NOTE THAT THE CONVOLUTIONAL LAYERS NEED TO TAKE THE NUMBER OF INPUT CHANNELS AS A PARAMETER\n",
        "# AND NOT THE INPUT SIZE.\n",
        "\n",
        "# Replace the following function:\n",
        "model = nn.Sequential(\n",
        "   nn.Conv1d(in_channels=1, out_channels=15, kernel_size=3, stride=2, padding=0),\n",
        "    nn.ReLU(),\n",
        "    nn.Conv1d(in_channels=15, out_channels=15, kernel_size=3, stride=2, padding=0),\n",
        "    nn.ReLU(),\n",
        "    nn.Conv1d(in_channels=15, out_channels=15, kernel_size=3, stride=2, padding=0),\n",
        "    nn.ReLU(),\n",
        "    nn.Flatten(),\n",
        "    nn.Linear(60, 10)  # Adjust input size to match the flattened size\n",
        ")\n"
      ],
      "metadata": {
        "id": "FslroPJJffrh"
      },
      "execution_count": 16,
      "outputs": []
    },
    {
      "cell_type": "code",
      "source": [
        "# He initialization of weights\n",
        "def weights_init(layer_in):\n",
        "  if isinstance(layer_in, nn.Linear):\n",
        "    nn.init.kaiming_uniform_(layer_in.weight)\n",
        "    layer_in.bias.data.fill_(0.0)"
      ],
      "metadata": {
        "id": "YgLaex1pfhqz"
      },
      "execution_count": 17,
      "outputs": []
    },
    {
      "cell_type": "code",
      "source": [
        "# choose cross entropy loss function (equation 5.24 in the loss notes)\n",
        "loss_function = nn.CrossEntropyLoss()\n",
        "# construct SGD optimizer and initialize learning rate and momentum\n",
        "optimizer = torch.optim.SGD(model.parameters(), lr = 0.05, momentum=0.9)\n",
        "# object that decreases learning rate by half every 20 epochs\n",
        "scheduler = StepLR(optimizer, step_size=20, gamma=0.5)\n",
        "# create 100 dummy data points and store in data loader class\n",
        "x_train = torch.tensor(train_data_x.transpose().astype('float32'))\n",
        "y_train = torch.tensor(train_data_y.astype('long')).long()\n",
        "x_val= torch.tensor(val_data_x.transpose().astype('float32'))\n",
        "y_val = torch.tensor(val_data_y.astype('long')).long()\n",
        "\n",
        "# load the data into a class that creates the batches\n",
        "data_loader = DataLoader(TensorDataset(x_train,y_train), batch_size=100, shuffle=True, worker_init_fn=np.random.seed(1))\n",
        "\n",
        "# Initialize model weights\n",
        "model.apply(weights_init)\n",
        "\n",
        "# loop over the dataset n_epoch times\n",
        "n_epoch = 100\n",
        "# store the loss and the % correct at each epoch\n",
        "losses_train = np.zeros((n_epoch))\n",
        "errors_train = np.zeros((n_epoch))\n",
        "losses_val = np.zeros((n_epoch))\n",
        "errors_val = np.zeros((n_epoch))\n",
        "\n",
        "for epoch in range(n_epoch):\n",
        "  # loop over batches\n",
        "  for i, data in enumerate(data_loader):\n",
        "    # retrieve inputs and labels for this batch\n",
        "    x_batch, y_batch = data\n",
        "    # zero the parameter gradients\n",
        "    optimizer.zero_grad()\n",
        "    # forward pass -- calculate model output\n",
        "    pred = model(x_batch[:,None,:])\n",
        "    # compute the loss\n",
        "    loss = loss_function(pred, y_batch)\n",
        "    # backward pass\n",
        "    loss.backward()\n",
        "    # SGD update\n",
        "    optimizer.step()\n",
        "\n",
        "  # Run whole dataset to get statistics -- normally wouldn't do this\n",
        "  pred_train = model(x_train[:,None,:])\n",
        "  pred_val = model(x_val[:,None,:])\n",
        "  _, predicted_train_class = torch.max(pred_train.data, 1)\n",
        "  _, predicted_val_class = torch.max(pred_val.data, 1)\n",
        "  errors_train[epoch] = 100 - 100 * (predicted_train_class == y_train).float().sum() / len(y_train)\n",
        "  errors_val[epoch]= 100 - 100 * (predicted_val_class == y_val).float().sum() / len(y_val)\n",
        "  losses_train[epoch] = loss_function(pred_train, y_train).item()\n",
        "  losses_val[epoch]= loss_function(pred_val, y_val).item()\n",
        "  print(f'Epoch {epoch:5d}, train loss {losses_train[epoch]:.6f}, train error {errors_train[epoch]:3.2f},  val loss {losses_val[epoch]:.6f}, percent error {errors_val[epoch]:3.2f}')\n",
        "\n",
        "  # tell scheduler to consider updating learning rate\n",
        "  scheduler.step()\n",
        "\n",
        "# Plot the results\n",
        "fig, ax = plt.subplots()\n",
        "ax.plot(errors_train,'r-',label='train')\n",
        "ax.plot(errors_val,'b-',label='validation')\n",
        "ax.set_ylim(0,100); ax.set_xlim(0,n_epoch)\n",
        "ax.set_xlabel('Epoch'); ax.set_ylabel('Error')\n",
        "ax.set_title('Part I: Validation Result %3.2f'%(errors_val[-1]))\n",
        "ax.legend()\n",
        "plt.show()"
      ],
      "metadata": {
        "id": "NYw8I_3mmX5c",
        "colab": {
          "base_uri": "https://localhost:8080/",
          "height": 1000
        },
        "outputId": "9dd38ac8-8d95-4141-ef7d-c2adb9b0ed17"
      },
      "execution_count": 18,
      "outputs": [
        {
          "output_type": "stream",
          "name": "stdout",
          "text": [
            "Epoch     0, train loss 1.908310, train error 74.30,  val loss 1.916454, percent error 76.50\n",
            "Epoch     1, train loss 1.491834, train error 59.92,  val loss 1.510550, percent error 62.50\n",
            "Epoch     2, train loss 1.405207, train error 56.78,  val loss 1.434240, percent error 59.00\n",
            "Epoch     3, train loss 1.334884, train error 54.67,  val loss 1.334761, percent error 54.80\n",
            "Epoch     4, train loss 1.177443, train error 48.45,  val loss 1.213158, percent error 52.10\n",
            "Epoch     5, train loss 1.119759, train error 45.67,  val loss 1.162532, percent error 48.20\n",
            "Epoch     6, train loss 0.986108, train error 37.50,  val loss 1.042116, percent error 40.70\n",
            "Epoch     7, train loss 0.950812, train error 37.28,  val loss 0.998100, percent error 39.10\n",
            "Epoch     8, train loss 0.844945, train error 32.43,  val loss 0.925680, percent error 36.00\n",
            "Epoch     9, train loss 0.745452, train error 29.00,  val loss 0.817568, percent error 31.90\n",
            "Epoch    10, train loss 0.639502, train error 24.45,  val loss 0.730565, percent error 29.00\n",
            "Epoch    11, train loss 0.579005, train error 22.95,  val loss 0.676470, percent error 26.10\n",
            "Epoch    12, train loss 0.535994, train error 20.38,  val loss 0.639772, percent error 25.00\n",
            "Epoch    13, train loss 0.527055, train error 19.12,  val loss 0.634135, percent error 23.10\n",
            "Epoch    14, train loss 0.434388, train error 16.07,  val loss 0.538489, percent error 20.00\n",
            "Epoch    15, train loss 0.433590, train error 16.53,  val loss 0.577623, percent error 19.90\n",
            "Epoch    16, train loss 0.318011, train error 11.47,  val loss 0.443604, percent error 16.40\n",
            "Epoch    17, train loss 0.309667, train error 11.28,  val loss 0.447970, percent error 15.80\n",
            "Epoch    18, train loss 0.275584, train error 10.07,  val loss 0.412388, percent error 13.40\n",
            "Epoch    19, train loss 0.223710, train error 8.12,  val loss 0.371014, percent error 12.90\n",
            "Epoch    20, train loss 0.178877, train error 6.00,  val loss 0.351309, percent error 13.10\n",
            "Epoch    21, train loss 0.176808, train error 6.30,  val loss 0.358039, percent error 12.20\n",
            "Epoch    22, train loss 0.152129, train error 4.85,  val loss 0.349124, percent error 12.50\n",
            "Epoch    23, train loss 0.134375, train error 4.18,  val loss 0.335364, percent error 10.80\n",
            "Epoch    24, train loss 0.131648, train error 4.60,  val loss 0.334652, percent error 11.50\n",
            "Epoch    25, train loss 0.125770, train error 4.12,  val loss 0.344260, percent error 11.20\n",
            "Epoch    26, train loss 0.141632, train error 4.88,  val loss 0.362693, percent error 10.40\n",
            "Epoch    27, train loss 0.122311, train error 4.20,  val loss 0.346190, percent error 11.00\n",
            "Epoch    28, train loss 0.117483, train error 3.85,  val loss 0.343474, percent error 12.20\n",
            "Epoch    29, train loss 0.105953, train error 3.62,  val loss 0.340086, percent error 11.40\n",
            "Epoch    30, train loss 0.095010, train error 3.00,  val loss 0.335047, percent error 10.70\n",
            "Epoch    31, train loss 0.098061, train error 3.28,  val loss 0.363668, percent error 11.40\n",
            "Epoch    32, train loss 0.099041, train error 3.45,  val loss 0.335607, percent error 10.50\n",
            "Epoch    33, train loss 0.107447, train error 3.78,  val loss 0.334869, percent error 10.60\n",
            "Epoch    34, train loss 0.091710, train error 2.90,  val loss 0.354831, percent error 11.00\n",
            "Epoch    35, train loss 0.087081, train error 2.72,  val loss 0.375123, percent error 10.70\n",
            "Epoch    36, train loss 0.091671, train error 3.50,  val loss 0.379429, percent error 10.60\n",
            "Epoch    37, train loss 0.097377, train error 3.12,  val loss 0.378020, percent error 10.70\n",
            "Epoch    38, train loss 0.070540, train error 2.18,  val loss 0.344923, percent error 10.70\n",
            "Epoch    39, train loss 0.076947, train error 2.38,  val loss 0.375188, percent error 11.00\n",
            "Epoch    40, train loss 0.057510, train error 1.43,  val loss 0.353185, percent error 9.70\n",
            "Epoch    41, train loss 0.061930, train error 2.03,  val loss 0.344351, percent error 9.80\n",
            "Epoch    42, train loss 0.053167, train error 1.35,  val loss 0.351720, percent error 9.80\n",
            "Epoch    43, train loss 0.054798, train error 1.40,  val loss 0.354633, percent error 10.60\n",
            "Epoch    44, train loss 0.048808, train error 1.18,  val loss 0.357104, percent error 10.10\n",
            "Epoch    45, train loss 0.052611, train error 1.47,  val loss 0.372551, percent error 10.50\n",
            "Epoch    46, train loss 0.054105, train error 1.50,  val loss 0.375151, percent error 10.50\n",
            "Epoch    47, train loss 0.050972, train error 1.22,  val loss 0.369993, percent error 9.70\n",
            "Epoch    48, train loss 0.052536, train error 1.35,  val loss 0.390171, percent error 10.60\n",
            "Epoch    49, train loss 0.045758, train error 1.05,  val loss 0.370289, percent error 10.10\n",
            "Epoch    50, train loss 0.047470, train error 1.28,  val loss 0.366627, percent error 9.50\n",
            "Epoch    51, train loss 0.056342, train error 1.75,  val loss 0.383548, percent error 9.50\n",
            "Epoch    52, train loss 0.042151, train error 1.00,  val loss 0.377416, percent error 10.00\n",
            "Epoch    53, train loss 0.041748, train error 1.15,  val loss 0.369121, percent error 9.90\n",
            "Epoch    54, train loss 0.043561, train error 1.20,  val loss 0.389466, percent error 10.30\n",
            "Epoch    55, train loss 0.056910, train error 1.85,  val loss 0.402027, percent error 10.20\n",
            "Epoch    56, train loss 0.045309, train error 1.22,  val loss 0.390657, percent error 10.80\n",
            "Epoch    57, train loss 0.040277, train error 0.93,  val loss 0.394559, percent error 10.80\n",
            "Epoch    58, train loss 0.037213, train error 0.82,  val loss 0.385056, percent error 10.20\n",
            "Epoch    59, train loss 0.038221, train error 0.93,  val loss 0.407027, percent error 10.40\n",
            "Epoch    60, train loss 0.033780, train error 0.65,  val loss 0.396395, percent error 10.00\n",
            "Epoch    61, train loss 0.034875, train error 0.72,  val loss 0.408098, percent error 10.20\n",
            "Epoch    62, train loss 0.033372, train error 0.68,  val loss 0.408631, percent error 10.30\n",
            "Epoch    63, train loss 0.032925, train error 0.62,  val loss 0.403073, percent error 10.30\n",
            "Epoch    64, train loss 0.034262, train error 0.70,  val loss 0.423383, percent error 11.10\n",
            "Epoch    65, train loss 0.035120, train error 0.78,  val loss 0.422216, percent error 11.10\n",
            "Epoch    66, train loss 0.032648, train error 0.70,  val loss 0.413719, percent error 10.50\n",
            "Epoch    67, train loss 0.032473, train error 0.68,  val loss 0.420946, percent error 10.20\n",
            "Epoch    68, train loss 0.031229, train error 0.57,  val loss 0.415255, percent error 10.60\n",
            "Epoch    69, train loss 0.030367, train error 0.53,  val loss 0.418885, percent error 10.20\n",
            "Epoch    70, train loss 0.030330, train error 0.57,  val loss 0.421570, percent error 10.30\n",
            "Epoch    71, train loss 0.030103, train error 0.53,  val loss 0.426159, percent error 10.50\n",
            "Epoch    72, train loss 0.029646, train error 0.47,  val loss 0.420848, percent error 10.30\n",
            "Epoch    73, train loss 0.029655, train error 0.55,  val loss 0.425769, percent error 10.20\n",
            "Epoch    74, train loss 0.029807, train error 0.47,  val loss 0.434654, percent error 11.00\n",
            "Epoch    75, train loss 0.029145, train error 0.43,  val loss 0.425632, percent error 10.40\n",
            "Epoch    76, train loss 0.028619, train error 0.53,  val loss 0.429954, percent error 10.70\n",
            "Epoch    77, train loss 0.030220, train error 0.57,  val loss 0.441495, percent error 10.90\n",
            "Epoch    78, train loss 0.029902, train error 0.55,  val loss 0.438117, percent error 10.80\n",
            "Epoch    79, train loss 0.027870, train error 0.45,  val loss 0.432755, percent error 10.20\n",
            "Epoch    80, train loss 0.027255, train error 0.47,  val loss 0.438634, percent error 10.50\n",
            "Epoch    81, train loss 0.026917, train error 0.40,  val loss 0.436980, percent error 10.20\n",
            "Epoch    82, train loss 0.026745, train error 0.43,  val loss 0.436505, percent error 10.40\n",
            "Epoch    83, train loss 0.026689, train error 0.43,  val loss 0.441461, percent error 10.50\n",
            "Epoch    84, train loss 0.026474, train error 0.38,  val loss 0.441815, percent error 10.50\n",
            "Epoch    85, train loss 0.026532, train error 0.47,  val loss 0.440812, percent error 10.70\n",
            "Epoch    86, train loss 0.026189, train error 0.45,  val loss 0.444723, percent error 10.40\n",
            "Epoch    87, train loss 0.026161, train error 0.40,  val loss 0.441051, percent error 10.40\n",
            "Epoch    88, train loss 0.025903, train error 0.43,  val loss 0.447144, percent error 10.60\n",
            "Epoch    89, train loss 0.026136, train error 0.38,  val loss 0.441676, percent error 10.30\n",
            "Epoch    90, train loss 0.025795, train error 0.45,  val loss 0.449179, percent error 10.60\n",
            "Epoch    91, train loss 0.025482, train error 0.47,  val loss 0.448267, percent error 10.40\n",
            "Epoch    92, train loss 0.025460, train error 0.40,  val loss 0.450485, percent error 10.80\n",
            "Epoch    93, train loss 0.025564, train error 0.38,  val loss 0.442931, percent error 10.20\n",
            "Epoch    94, train loss 0.025099, train error 0.40,  val loss 0.447463, percent error 10.40\n",
            "Epoch    95, train loss 0.025091, train error 0.40,  val loss 0.449426, percent error 10.60\n",
            "Epoch    96, train loss 0.024843, train error 0.38,  val loss 0.450786, percent error 10.60\n",
            "Epoch    97, train loss 0.024907, train error 0.40,  val loss 0.454576, percent error 10.80\n",
            "Epoch    98, train loss 0.024601, train error 0.40,  val loss 0.452693, percent error 10.80\n",
            "Epoch    99, train loss 0.024593, train error 0.38,  val loss 0.454562, percent error 10.80\n"
          ]
        },
        {
          "output_type": "display_data",
          "data": {
            "text/plain": [
              "<Figure size 640x480 with 1 Axes>"
            ],
            "image/png": "[encoded data removed]"
          },
          "metadata": {}
        }
      ]
    }
  ]
}